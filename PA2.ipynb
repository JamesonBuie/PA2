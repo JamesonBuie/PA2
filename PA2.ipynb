{
 "cells": [
  {
   "cell_type": "markdown",
   "id": "0f597845",
   "metadata": {},
   "source": [
    "# Practice Assignment 2\n",
    "## Jameson Buie\n",
    "### Version 1\n",
    "### CS-150 Spring 2023"
   ]
  },
  {
   "cell_type": "code",
   "execution_count": 3,
   "id": "53025c70",
   "metadata": {},
   "outputs": [
    {
     "name": "stdout",
     "output_type": "stream",
     "text": [
      "Enter a floating point number. 44.3\n"
     ]
    }
   ],
   "source": [
    "floatNum= float(input(\"Enter a floating point number. \"))\n",
    "            "
   ]
  },
  {
   "cell_type": "code",
   "execution_count": 4,
   "id": "3a72ff09",
   "metadata": {},
   "outputs": [
    {
     "name": "stdout",
     "output_type": "stream",
     "text": [
      "Enter an integer. 16\n"
     ]
    }
   ],
   "source": [
    "intNum= int(input(\"Enter an integer. \"))"
   ]
  },
  {
   "cell_type": "code",
   "execution_count": 5,
   "id": "d370911b",
   "metadata": {},
   "outputs": [
    {
     "name": "stdout",
     "output_type": "stream",
     "text": [
      "The sum is 60.3\n"
     ]
    }
   ],
   "source": [
    "print(\"The sum is\",floatNum+intNum)"
   ]
  },
  {
   "cell_type": "code",
   "execution_count": 7,
   "id": "be0046e1",
   "metadata": {},
   "outputs": [
    {
     "name": "stdout",
     "output_type": "stream",
     "text": [
      "The difference is 28.299999999999997\n"
     ]
    }
   ],
   "source": [
    "print(\"The difference is\",floatNum-intNum)"
   ]
  },
  {
   "cell_type": "code",
   "execution_count": 8,
   "id": "27a269b5",
   "metadata": {},
   "outputs": [
    {
     "name": "stdout",
     "output_type": "stream",
     "text": [
      "The product is 708.8\n"
     ]
    }
   ],
   "source": [
    "print(\"The product is\",floatNum*intNum)"
   ]
  },
  {
   "cell_type": "code",
   "execution_count": 9,
   "id": "3a19d425",
   "metadata": {},
   "outputs": [
    {
     "name": "stdout",
     "output_type": "stream",
     "text": [
      "The quotient is 2.76875\n"
     ]
    }
   ],
   "source": [
    "print(\"The quotient is\", floatNum/intNum)"
   ]
  },
  {
   "cell_type": "code",
   "execution_count": 21,
   "id": "18604290",
   "metadata": {},
   "outputs": [
    {
     "name": "stdout",
     "output_type": "stream",
     "text": [
      "The type for the result is <class 'float'>\n"
     ]
    }
   ],
   "source": [
    "print(\"The type for the result is\",type(floatNum))"
   ]
  },
  {
   "cell_type": "code",
   "execution_count": null,
   "id": "1bb90c31",
   "metadata": {},
   "outputs": [],
   "source": []
  }
 ],
 "metadata": {
  "kernelspec": {
   "display_name": "Python 3 (ipykernel)",
   "language": "python",
   "name": "python3"
  },
  "language_info": {
   "codemirror_mode": {
    "name": "ipython",
    "version": 3
   },
   "file_extension": ".py",
   "mimetype": "text/x-python",
   "name": "python",
   "nbconvert_exporter": "python",
   "pygments_lexer": "ipython3",
   "version": "3.9.13"
  }
 },
 "nbformat": 4,
 "nbformat_minor": 5
}
